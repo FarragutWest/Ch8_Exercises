{
 "cells": [
  {
   "cell_type": "code",
   "execution_count": 1,
   "metadata": {},
   "outputs": [],
   "source": [
    "def display_message():\n",
    "    print(\"We are learning how to use functions.\")\n",
    "\n"
   ]
  },
  {
   "cell_type": "code",
   "execution_count": 2,
   "metadata": {},
   "outputs": [
    {
     "name": "stdout",
     "output_type": "stream",
     "text": [
      "We are learning how to use functions.\n"
     ]
    }
   ],
   "source": [
    "display_message()"
   ]
  },
  {
   "cell_type": "code",
   "execution_count": 3,
   "metadata": {},
   "outputs": [],
   "source": [
    "def favorite_book(title):\n",
    "    print(\"one of my favorite books is \"+title.title()+\" !\")\n",
    "    "
   ]
  },
  {
   "cell_type": "code",
   "execution_count": 4,
   "metadata": {},
   "outputs": [
    {
     "name": "stdout",
     "output_type": "stream",
     "text": [
      "one of my favorite books is The Black Swan !\n"
     ]
    }
   ],
   "source": [
    "favorite_book(\"the black swan\")"
   ]
  },
  {
   "cell_type": "code",
   "execution_count": 5,
   "metadata": {},
   "outputs": [],
   "source": [
    "def make_shirt(size,text):\n",
    "    print(\"the size of the shirt is \"+size+\", with \"+text+\" written on it\")"
   ]
  },
  {
   "cell_type": "code",
   "execution_count": 7,
   "metadata": {},
   "outputs": [
    {
     "name": "stdout",
     "output_type": "stream",
     "text": [
      "the size of the shirt is L, with Inter written on it\n"
     ]
    }
   ],
   "source": [
    "make_shirt(\"L\",\"Inter\")"
   ]
  },
  {
   "cell_type": "code",
   "execution_count": 8,
   "metadata": {},
   "outputs": [
    {
     "name": "stdout",
     "output_type": "stream",
     "text": [
      "the size of the shirt is XL, with Inter written on it\n"
     ]
    }
   ],
   "source": [
    "make_shirt(text=\"Inter\", size=\"XL\")"
   ]
  },
  {
   "cell_type": "code",
   "execution_count": 10,
   "metadata": {},
   "outputs": [],
   "source": [
    "def make_shirt(text,size=\"L\"):\n",
    "    print(\"the size of the shirt is \"+size+\", with \"+text+\" written on it\")"
   ]
  },
  {
   "cell_type": "code",
   "execution_count": 11,
   "metadata": {},
   "outputs": [
    {
     "name": "stdout",
     "output_type": "stream",
     "text": [
      "the size of the shirt is L, with I love Python written on it\n"
     ]
    }
   ],
   "source": [
    "make_shirt(\"I love Python\")"
   ]
  },
  {
   "cell_type": "code",
   "execution_count": 19,
   "metadata": {},
   "outputs": [],
   "source": [
    "def describe_city(name,country=\"Bulgaria\"):\n",
    "    print(name+\" is in \"+country)"
   ]
  },
  {
   "cell_type": "code",
   "execution_count": 21,
   "metadata": {},
   "outputs": [
    {
     "name": "stdout",
     "output_type": "stream",
     "text": [
      "New York is in USA\n"
     ]
    }
   ],
   "source": [
    "describe_city('New York','USA')"
   ]
  },
  {
   "cell_type": "code",
   "execution_count": 22,
   "metadata": {},
   "outputs": [],
   "source": [
    "def city_country(city,country):\n",
    "    print(city+\", \"+country)"
   ]
  },
  {
   "cell_type": "code",
   "execution_count": 23,
   "metadata": {},
   "outputs": [
    {
     "name": "stdout",
     "output_type": "stream",
     "text": [
      "Athens, Greece\n"
     ]
    }
   ],
   "source": [
    "city_country('Athens','Greece')"
   ]
  },
  {
   "cell_type": "code",
   "execution_count": 36,
   "metadata": {},
   "outputs": [],
   "source": [
    "def make_album(name,title):\n",
    "    album={\"Name\":name,\"Title\":title}\n",
    "    return album\n"
   ]
  },
  {
   "cell_type": "code",
   "execution_count": 39,
   "metadata": {},
   "outputs": [
    {
     "data": {
      "text/plain": [
       "{'Name': 'Beloslava', 'Title': 'Dve Luni'}"
      ]
     },
     "execution_count": 39,
     "metadata": {},
     "output_type": "execute_result"
    }
   ],
   "source": [
    "make_album(\"Beloslava\",\"Dve Luni\")"
   ]
  },
  {
   "cell_type": "code",
   "execution_count": 40,
   "metadata": {},
   "outputs": [
    {
     "name": "stdout",
     "output_type": "stream",
     "text": [
      "Musicianbeloslava\n",
      "Album namedve luni\n",
      "Musicianirina florin\n",
      "Album namesanuvam\n",
      "Musicianquit\n",
      "{'Name': 'quit', 'Title': 'sanuvam'}\n"
     ]
    }
   ],
   "source": [
    "def make_album(name,title):\n",
    "    album={\"Name\":name,\"Title\":title}\n",
    "    return album\n",
    "while True:\n",
    "    name=input(\"Musician\")\n",
    "    if name==\"quit\":\n",
    "        break\n",
    "    title=input(\"Album name\")\n",
    "    if title==\"quit\":\n",
    "        break\n",
    "album=make_album(name, title)   \n",
    "print(album)"
   ]
  },
  {
   "cell_type": "code",
   "execution_count": 44,
   "metadata": {},
   "outputs": [
    {
     "name": "stdout",
     "output_type": "stream",
     "text": [
      "A\n",
      "B\n",
      "C\n"
     ]
    }
   ],
   "source": [
    "magician_names=('A','B','C')\n",
    "def show_magicians(names):\n",
    "    for name in names:\n",
    "        print(name)\n",
    "show_magicians(magician_names)"
   ]
  },
  {
   "cell_type": "code",
   "execution_count": 63,
   "metadata": {},
   "outputs": [],
   "source": [
    "magician_names=['A','B','C']\n",
    "modified_magicians=[]\n",
    "def make_great(magician_names,modified_magicians):\n",
    "    while magician_names:\n",
    "        magicians=magician_names.pop()+\" the Great\"\n",
    "        modified_magicians.append(magicians)\n",
    "    print(modified_magicians)\n"
   ]
  },
  {
   "cell_type": "code",
   "execution_count": 64,
   "metadata": {},
   "outputs": [
    {
     "name": "stdout",
     "output_type": "stream",
     "text": [
      "['C the Great', 'B the Great', 'A the Great']\n"
     ]
    }
   ],
   "source": [
    "make_great(magician_names,modified_magicians)"
   ]
  },
  {
   "cell_type": "code",
   "execution_count": 65,
   "metadata": {},
   "outputs": [],
   "source": [
    "def sandwich_specs(*specs):\n",
    "    print(specs)\n",
    "    "
   ]
  },
  {
   "cell_type": "code",
   "execution_count": 66,
   "metadata": {},
   "outputs": [
    {
     "name": "stdout",
     "output_type": "stream",
     "text": [
      "('Ham', 'cheese', 'lettuce')\n"
     ]
    }
   ],
   "source": [
    "sandwich_specs('Ham','cheese','lettuce')"
   ]
  },
  {
   "cell_type": "code",
   "execution_count": 68,
   "metadata": {},
   "outputs": [],
   "source": [
    "def build_profile(first_name,last_name,*other_attributes):\n",
    "    first_name=input('First Name')\n",
    "    last_name=input('Last Name')\n",
    "    other_attributes=input('other attributes')\n",
    "    "
   ]
  },
  {
   "cell_type": "code",
   "execution_count": 73,
   "metadata": {},
   "outputs": [
    {
     "name": "stdout",
     "output_type": "stream",
     "text": [
      "Frist Namealeks\n",
      "Last Namegangov\n",
      "other attributesbethesda\n"
     ]
    }
   ],
   "source": [
    "build_profile('Aleks','Gangov','Bethesda')"
   ]
  },
  {
   "cell_type": "code",
   "execution_count": 78,
   "metadata": {},
   "outputs": [],
   "source": [
    "def cars (manufacturer,model,**other):\n",
    "    car={}\n",
    "    car[\"Make\"]=manufacturer\n",
    "    car[\"Model\"]=model\n",
    "    for key,value in other.items():\n",
    "        car[key]=value\n",
    "    return car"
   ]
  },
  {
   "cell_type": "code",
   "execution_count": 79,
   "metadata": {
    "scrolled": true
   },
   "outputs": [
    {
     "data": {
      "text/plain": [
       "{'Make': 'BMW', 'Model': '535', 'color': 'Navy', 'miles': '45K'}"
      ]
     },
     "execution_count": 79,
     "metadata": {},
     "output_type": "execute_result"
    }
   ],
   "source": [
    "cars(\"BMW\",\"535\",color='Navy',miles=\"45K\")"
   ]
  },
  {
   "cell_type": "code",
   "execution_count": null,
   "metadata": {},
   "outputs": [],
   "source": []
  }
 ],
 "metadata": {
  "kernelspec": {
   "display_name": "Python 3",
   "language": "python",
   "name": "python3"
  },
  "language_info": {
   "codemirror_mode": {
    "name": "ipython",
    "version": 3
   },
   "file_extension": ".py",
   "mimetype": "text/x-python",
   "name": "python",
   "nbconvert_exporter": "python",
   "pygments_lexer": "ipython3",
   "version": "3.7.6"
  }
 },
 "nbformat": 4,
 "nbformat_minor": 4
}
